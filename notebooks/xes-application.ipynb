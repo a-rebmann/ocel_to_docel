{
 "cells": [
  {
   "cell_type": "code",
   "execution_count": null,
   "id": "6f1d470c",
   "metadata": {},
   "outputs": [],
   "source": [
    "import pm4py\n",
    "\n",
    "log = pm4py.read_xes(\"BPI Challenge 2017.xes\")"
   ]
  },
  {
   "cell_type": "code",
   "execution_count": null,
   "id": "d685115c",
   "metadata": {},
   "outputs": [],
   "source": [
    "import random\n",
    "all_cases = list(log[\"case:concept:name\"].unique())\n",
    "sample_cases = random.choices(all_cases, k=1000)\n",
    "\n",
    "sampled_log = log[log[\"case:concept:name\"].isin(sample_cases)]\n",
    "sampled_log"
   ]
  },
  {
   "cell_type": "code",
   "execution_count": null,
   "id": "b7db488a",
   "metadata": {},
   "outputs": [],
   "source": [
    "for case_id, case in sampled_log.groupby(\"case:concept:name\"):\n",
    "    case = case.sort_values(by='time:timestamp') \n",
    "    current_state = \"False\"\n",
    "    for idx, row in case.iterrows():\n",
    "        if row[\"Accepted\"] == True:\n",
    "            current_state = \"True\"\n",
    "        sampled_log.at[idx, \"Accepted\"] = current_state\n",
    "altered_log = sampled_log.sort_values(by='case:concept:name') "
   ]
  },
  {
   "cell_type": "code",
   "execution_count": null,
   "id": "ae92e839",
   "metadata": {},
   "outputs": [],
   "source": [
    "pm4py.write_xes(altered_log, \"BPI_Challenge_2017.xes\", case_id_key='case:concept:name')"
   ]
  },
  {
   "cell_type": "code",
   "execution_count": null,
   "id": "ad2bb5ed",
   "metadata": {},
   "outputs": [],
   "source": [
    "import ocel\n",
    "ocel_log = ocel.import_log(\"BPI_Challenge_2017.xes.jsonocel\") # get this from https://gitlab.uni-mannheim.de/processanalytics/uncovering-object-centric-data/-/blob/main/output/evaluation/BPI_Challenge_2017.xes.jsonocel"
   ]
  },
  {
   "cell_type": "code",
   "execution_count": null,
   "id": "cabb59db",
   "metadata": {},
   "outputs": [],
   "source": [
    "\n",
    "# sample_cases\n",
    "ocel_dict = {\n",
    "    \"ocel:global-event\": {\n",
    "        \"ocel:activity\": \"__INVALID__\"\n",
    "    },\n",
    "    \"ocel:global-object\": {\n",
    "        \"ocel:type\": \"__INVALID__\"\n",
    "    },\n",
    "    \"ocel:global-log\": {\n",
    "        \"ocel:attribute-names\": [\n",
    "\n",
    "        ],\n",
    "        \"ocel:object-types\": [\n",
    "\n",
    "        ],\n",
    "    },\n",
    "    \"ocel:events\": {},\n",
    "    \"ocel:objects\": {}\n",
    "}\n",
    "ocel_dict[\"ocel:global-log\"][\"ocel:object-types\"] = ocel_log[\"ocel:global-log\"][\"ocel:object-types\"]\n",
    "ocel_dict[\"ocel:global-log\"][\"ocel:attribute-names\"] = ocel_log[\"ocel:global-log\"][\"ocel:attribute-names\"]\n",
    "\n",
    "id_to_event = {}\n",
    "referenced_objs = set()\n",
    "cnt = 0\n",
    "for case in sample_cases:\n",
    "    current_state = \"False\"\n",
    "    for key, event in ocel_log[\"ocel:events\"].items():\n",
    "        if case not in event[\"ocel:omap\"]:\n",
    "            continue\n",
    "        #print(type(event))\n",
    "        event[\"ocel:vmap\"] = dict(event[\"ocel:vmap\"])\n",
    "        #print(type(event[\"ocel:vmap\"]))\n",
    "        if \"Accepted\" in event[\"ocel:vmap\"] and event[\"ocel:vmap\"][\"Accepted\"] == True:\n",
    "            current_state = \"True\"\n",
    "            print(\"accepted\")\n",
    "        event[\"ocel:vmap\"][\"OfferAccepted\"] = current_state\n",
    "        referenced_objs.update(event[\"ocel:omap\"])\n",
    "        id_to_event[key] = event\n",
    "    cnt += 1\n",
    "    if cnt % 100 == 0:\n",
    "        print(\"done with\", cnt, \"cases\")\n",
    "\n",
    "from collections import OrderedDict\n",
    "id_to_event = OrderedDict(sorted(id_to_event.items()))\n",
    "objs_dict = {key: obj for key, obj in ocel_log[\"ocel:objects\"].items()}\n",
    "\n",
    "ocel_dict[\"ocel:events\"] = dict(id_to_event)\n",
    "ocel_dict[\"ocel:objects\"] = objs_dict\n"
   ]
  },
  {
   "cell_type": "code",
   "execution_count": null,
   "id": "42d7f096",
   "metadata": {},
   "outputs": [],
   "source": [
    "ocel.export_log(ocel_dict, \"BPI_2017_altered.jsonocel\")"
   ]
  }
 ],
 "metadata": {
  "kernelspec": {
   "display_name": "Python 3 (ipykernel)",
   "language": "python",
   "name": "python3"
  },
  "language_info": {
   "codemirror_mode": {
    "name": "ipython",
    "version": 3
   },
   "file_extension": ".py",
   "mimetype": "text/x-python",
   "name": "python",
   "nbconvert_exporter": "python",
   "pygments_lexer": "ipython3",
   "version": "3.9.13"
  }
 },
 "nbformat": 4,
 "nbformat_minor": 5
}
