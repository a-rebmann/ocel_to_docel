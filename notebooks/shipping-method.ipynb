{
 "cells": [
  {
   "cell_type": "code",
   "execution_count": null,
   "id": "N-ckiAqFjQlW",
   "metadata": {
    "colab": {
     "base_uri": "https://localhost:8080/"
    },
    "executionInfo": {
     "elapsed": 12476,
     "status": "ok",
     "timestamp": 1689061682454,
     "user": {
      "displayName": "Alexandre Goossens",
      "userId": "15551218393207195686"
     },
     "user_tz": -120
    },
    "id": "N-ckiAqFjQlW",
    "outputId": "07ad2500-c9fd-4190-dec5-6cc639e885ff"
   },
   "outputs": [],
   "source": [
    "pip install names"
   ]
  },
  {
   "cell_type": "code",
   "execution_count": null,
   "id": "50696575",
   "metadata": {
    "id": "50696575",
    "outputId": "d2a07c91-33c2-450b-ee22-25a34f12bec4"
   },
   "outputs": [],
   "source": [
    "pip install pandas==1.5.1"
   ]
  },
  {
   "cell_type": "code",
   "execution_count": null,
   "id": "765c3f7f",
   "metadata": {
    "id": "765c3f7f"
   },
   "outputs": [],
   "source": [
    "import pandas as pd\n",
    "import names\n",
    "import random\n",
    "import time\n",
    "from datetime import datetime\n",
    "import numpy as np\n",
    "from random import randrange\n",
    "from datetime import timedelta"
   ]
  },
  {
   "cell_type": "code",
   "execution_count": null,
   "id": "a706ac2e",
   "metadata": {
    "id": "a706ac2e"
   },
   "outputs": [],
   "source": [
    "#To generate initial timestamps\n",
    "\n",
    "def random_date(start, end):\n",
    "    delta = end - start\n",
    "    int_delta = (delta.days * 24 * 60 * 60) + delta.seconds\n",
    "    random_second = randrange(int_delta)\n",
    "    return start + timedelta(seconds=random_second)"
   ]
  },
  {
   "cell_type": "markdown",
   "id": "63566ee6",
   "metadata": {
    "id": "63566ee6"
   },
   "source": [
    "Create product table"
   ]
  },
  {
   "cell_type": "code",
   "execution_count": null,
   "id": "8b299f90",
   "metadata": {
    "colab": {
     "base_uri": "https://localhost:8080/",
     "height": 142
    },
    "executionInfo": {
     "elapsed": 230,
     "status": "ok",
     "timestamp": 1689061837020,
     "user": {
      "displayName": "Alexandre Goossens",
      "userId": "15551218393207195686"
     },
     "user_tz": -120
    },
    "id": "8b299f90",
    "outputId": "705f9044-2bc1-4dab-96cf-85003ee841dc",
    "scrolled": false
   },
   "outputs": [],
   "source": [
    "# initialize data of lists.\n",
    "product_types = {'PID': ['P1', 'P2', 'P3'],\n",
    "        'Value': [15,10,20],\n",
    "         'Fragile': [0,0,1]}\n",
    "\n",
    "# Create DataFrame\n",
    "product_types_df = pd.DataFrame(product_types)\n",
    "\n",
    "# Print the output.\n",
    "product_types_df"
   ]
  },
  {
   "cell_type": "markdown",
   "id": "0611a0d8",
   "metadata": {
    "id": "0611a0d8"
   },
   "source": [
    "Create customer table"
   ]
  },
  {
   "cell_type": "code",
   "execution_count": null,
   "id": "e5f5e1cf",
   "metadata": {
    "colab": {
     "base_uri": "https://localhost:8080/",
     "height": 1000
    },
    "executionInfo": {
     "elapsed": 676,
     "status": "ok",
     "timestamp": 1689061840912,
     "user": {
      "displayName": "Alexandre Goossens",
      "userId": "15551218393207195686"
     },
     "user_tz": -120
    },
    "id": "e5f5e1cf",
    "outputId": "ed2bfd4e-3970-485e-eb61-6ab9e45a7c0c",
    "scrolled": true
   },
   "outputs": [],
   "source": [
    "customers_df = pd.DataFrame(columns = [\"CID\", \"Name\",\"Bank Account\"])\n",
    "for i in range(50):\n",
    "    customers_df = customers_df.append({'CID':\"c\"+str(i+1),\n",
    "                                        'Name':names.get_full_name(),\n",
    "                                        'Bank Account': 'BE'+ str(68-i)+\" \" + str(7689-i*3)+\" \"  + str(4567+i*13+67)+\" \"  + str(3467 - i*7 -789)},\n",
    "                                       ignore_index=True)\n",
    "customers_df"
   ]
  },
  {
   "cell_type": "markdown",
   "id": "a26c1ff4",
   "metadata": {
    "id": "a26c1ff4"
   },
   "source": [
    "Create Order table"
   ]
  },
  {
   "cell_type": "code",
   "execution_count": null,
   "id": "c8cd64fd",
   "metadata": {
    "id": "c8cd64fd"
   },
   "outputs": [],
   "source": [
    "orders_df = pd.DataFrame(columns = [\"OID\",\"Quantity\"])"
   ]
  },
  {
   "cell_type": "markdown",
   "id": "2712eb23",
   "metadata": {
    "id": "2712eb23"
   },
   "source": [
    "Create the events table and the dynamic attribute tables"
   ]
  },
  {
   "cell_type": "code",
   "execution_count": null,
   "id": "2ed9bb2b",
   "metadata": {
    "id": "2ed9bb2b"
   },
   "outputs": [],
   "source": [
    "events_df = pd.DataFrame(columns = [\"EID\", \"Activity\",\"Timestamp\",'Customer','Order',\"Product Type\",\"Resource\"])\n",
    "quantity_df = pd.DataFrame(columns = [\"QID\", \"P1\",\"P2\",'P3',\"EID\",\"OID\"])\n",
    "order_value_df = pd.DataFrame(columns = [\"VID\", \"Value\",\"EID\",\"OID\"])\n",
    "refund_df = pd.DataFrame(columns = [\"RID\", \"Refund Value\",\"EID\",\"OID\"])\n",
    "shipping_method_df = pd.DataFrame(columns = [\"SID\", \"Method\",\"EID\",\"OID\"])"
   ]
  },
  {
   "cell_type": "markdown",
   "id": "2def9156",
   "metadata": {
    "id": "2def9156"
   },
   "source": [
    "Create list of potential resources for each activity"
   ]
  },
  {
   "cell_type": "code",
   "execution_count": null,
   "id": "b6946185",
   "metadata": {
    "id": "b6946185"
   },
   "outputs": [],
   "source": [
    "#Resources1 are responsible for the activities: Receive order, confirm purchase, determine shipping method,\n",
    "#sent invoice, recollect letter, pay refund, file order\n",
    "\n",
    "Resources1= ['Jan','Gabriel','Olivia','Sophia','Evelyn','Noah']\n",
    "\n",
    "#Resources 2 are responsible for the activities: Collect product, put protection around product, add product to package\n",
    "\n",
    "Resources2 = ['Johannes','Elizabeth','Jack','Chloe','Sebastian','Grace']\n",
    "\n",
    "#Resources 3 are responsible for the activities: Ship by courrier, Ship by mail, ship by express courrier, deliver package\n",
    "\n",
    "Resources3 = ['Alexandre','Violet','David','Zoe','Ryan','Claire']"
   ]
  },
  {
   "cell_type": "code",
   "execution_count": null,
   "id": "2fdbccb9",
   "metadata": {
    "colab": {
     "base_uri": "https://localhost:8080/"
    },
    "executionInfo": {
     "elapsed": 247,
     "status": "ok",
     "timestamp": 1689061846214,
     "user": {
      "displayName": "Alexandre Goossens",
      "userId": "15551218393207195686"
     },
     "user_tz": -120
    },
    "id": "2fdbccb9",
    "outputId": "1fab4c35-13c2-4da3-84a3-81874c20ce87"
   },
   "outputs": [],
   "source": [
    "def choice_excluding(lst, exception):\n",
    "    possible_choices = [v for v in lst if v != exception]\n",
    "    return random.choice(possible_choices)\n",
    "print(choice_excluding(Resources1,random.choice(Resources1)))"
   ]
  },
  {
   "cell_type": "markdown",
   "id": "3165c8d5",
   "metadata": {
    "id": "3165c8d5"
   },
   "source": [
    "Create first event"
   ]
  },
  {
   "cell_type": "code",
   "execution_count": null,
   "id": "4ffe349e",
   "metadata": {
    "colab": {
     "base_uri": "https://localhost:8080/"
    },
    "executionInfo": {
     "elapsed": 562,
     "status": "ok",
     "timestamp": 1689061847778,
     "user": {
      "displayName": "Alexandre Goossens",
      "userId": "15551218393207195686"
     },
     "user_tz": -120
    },
    "id": "4ffe349e",
    "outputId": "9cc8ceb2-1d54-408d-c0f4-d8cf08230338"
   },
   "outputs": [],
   "source": [
    "#Spare  with the idea of having the timestamps overlap\n",
    "count = 1\n",
    "Number_of_orders=100\n",
    "min_value = 100\n",
    "refund_prob = 0.5\n",
    "time_between_events = 700\n",
    "next_event_timerange = 10000\n",
    "\n",
    "resource1 = random.choice(Resources1)\n",
    "resource2 = random.choice(Resources2)\n",
    "resource3 = random.choice(Resources3)\n",
    "\n",
    "start = datetime.strptime('1/1/2022 08:30 AM', '%d/%m/%Y %I:%M %p')\n",
    "end =  datetime.strptime('1/1/2022 6:00 PM', '%d/%m/%Y %I:%M %p')\n",
    "\n",
    "for i in range(0, Number_of_orders):\n",
    "    #Initialize customers\n",
    "    customer= customers_df.sample()\n",
    "    CID=customer['CID'].values\n",
    "    #Initialize products\n",
    "    product = product_types_df.sample(n=3,replace=True)\n",
    "    product_list = set(product.PID.values.tolist())\n",
    "    print('product_list', product_list)\n",
    "\n",
    "    #Initialize resources\n",
    "    resource1 = choice_excluding(Resources1,resource1)\n",
    "    resource2 = choice_excluding(Resources2,resource2)\n",
    "    resource3 = choice_excluding(Resources3,resource3)\n",
    "\n",
    "    print(start,end)\n",
    "\n",
    "    stamp = random_date(start, end)\n",
    "\n",
    "# Create first event\n",
    "\n",
    "    #Events Table\n",
    "    events_df = events_df.append({'EID':\"e\"+str(i+count),\n",
    "                                  'Activity':'Place Order',\n",
    "                                    'Timestamp': stamp,\n",
    "                                 'Customer': CID[0],\n",
    "                                 'Order': 'o'+str(i+1),\n",
    "                                 'Product Type': product_list},\n",
    "                                           ignore_index=True)\n",
    "    # Order Table\n",
    "    orders_df=orders_df.append({'OID':'o'+str(i+1)},ignore_index=True)\n",
    "    # Quantity Table\n",
    "    quantity_df = quantity_df.append({'QID': 'Q' + str(i+1),'EID':\"e\"+str(i+count),'OID':'o'+str(i+1)},ignore_index=True)\n",
    "    total = 0\n",
    "    Quantity = []\n",
    "    #for q in range(0,3):\n",
    "    for q in range(0, len(product_types_df.columns)):\n",
    "            quantity = random.randint(1, 4)\n",
    "            Quantity.append(quantity)\n",
    "            value = product.iloc[q]['Value']*quantity\n",
    "            total = total + value\n",
    "    product['Quantity'] = Quantity\n",
    "    q_sum = product.groupby('PID').sum()\n",
    "    print(q_sum)\n",
    "\n",
    "\n",
    "    for value in product_list:\n",
    "        quantity_df.at[i,value] = q_sum.at[value,'Quantity']\n",
    "\n",
    "\n",
    "    # Refund Table\n",
    "    refund_df = refund_df.append({'RID':'R'+ str(refund_df.shape[0] + 1), 'Refund Value' : 0,'EID':\"e\"+str(i+count),'OID':'o'+str(i+1)},ignore_index=True)\n",
    "\n",
    "    # Increase count\n",
    "    count = count + 1\n",
    "\n",
    "    #Increase timestamp at random between 1 and time_between_events seconds\n",
    "    time_duration = random.uniform(1,time_between_events)\n",
    "\n",
    "    stamp = stamp + timedelta(seconds=time_duration)\n",
    "\n",
    "\n",
    "\n",
    " # Create event 2\n",
    "\n",
    "    events_df = events_df.append({'EID':\"e\"+str(i+count),\n",
    "                                  'Activity':'Receive Order',\n",
    "                                    'Timestamp': stamp,\n",
    "                                 'Customer': CID[0],\n",
    "                                 'Order': 'o'+str(i+1),\n",
    "                                 'Product Type': product_list,\n",
    "                                 'Resource': resource1},\n",
    "                                           ignore_index=True)\n",
    "    # Increase count\n",
    "    count = count + 1\n",
    "\n",
    "    #Increase timestamp at random between 1 and time_between_events seconds\n",
    "    time_duration = random.uniform(1,time_between_events)\n",
    "\n",
    "    stamp = stamp + timedelta(seconds=time_duration)\n",
    "\n",
    " # Create event 3\n",
    "\n",
    "    events_df = events_df.append({'EID':\"e\"+str(i+count),\n",
    "                                  'Activity':'Confirm Purchase',\n",
    "                                    'Timestamp': stamp,\n",
    "\n",
    "                                 'Order': 'o'+str(i+1),\n",
    "                                 'Product Type': product_list,\n",
    "                                 'Resource': resource1},\n",
    "                                           ignore_index=True)\n",
    "\n",
    "    # Value Table (created by confirm purchase)\n",
    "\n",
    "    order_value_df = order_value_df.append({'VID':'V'+str(i+1),'Value': total,'EID':\"e\"+str(i+count),'OID':'o'+str(i+1)},ignore_index=True)\n",
    "\n",
    "    # Increase count\n",
    "    count = count + 1\n",
    "\n",
    "    #Increase timestamp at random between 1 and time_between_events seconds\n",
    "    time_duration = random.uniform(1,time_between_events)\n",
    "\n",
    "    stamp = stamp + timedelta(seconds=time_duration)\n",
    "\n",
    " # Create event 4\n",
    "    for value in product_list:\n",
    "        events_df = events_df.append({'EID':\"e\"+str(i+count),\n",
    "                                  'Activity':'Collect product from warehouse',\n",
    "                                    'Timestamp': stamp,\n",
    "\n",
    "                                 'Order': 'o'+str(i+1),\n",
    "                                 'Product Type': set([value]),\n",
    "                                 'Resource': resource2},\n",
    "                                           ignore_index=True)\n",
    "        # Increase count\n",
    "        count = count + 1\n",
    "\n",
    "      #Increase timestamp at random between 1 and time_between_events seconds\n",
    "        time_duration = random.uniform(1,time_between_events)\n",
    "\n",
    "        stamp = stamp + timedelta(seconds=time_duration)\n",
    "\n",
    " # Create event 5\n",
    "    for value in product_list:\n",
    "        fragile = product_types_df.loc[product_types_df['PID'] == value]['Fragile'].values\n",
    "        if fragile[0] == 1:\n",
    "            events_df = events_df.append({'EID':\"e\"+str(i+count),\n",
    "                                  'Activity':'Put protection around the product',\n",
    "                                    'Timestamp': stamp,\n",
    "\n",
    "                                 'Order': 'o'+str(i+1),\n",
    "                                 'Product Type': set([value]),\n",
    "                                 'Resource': resource2},\n",
    "                                           ignore_index=True)\n",
    "            # Increase count\n",
    "            count = count + 1\n",
    "\n",
    "            #Increase timestamp at random between 1 and time_between_events seconds\n",
    "            time_duration = random.uniform(1,time_between_events)\n",
    "\n",
    "            stamp = stamp + timedelta(seconds=time_duration)\n",
    "\n",
    " # Create event 6\n",
    "    for value in product_list:\n",
    "        events_df = events_df.append({'EID':\"e\"+str(i+count),\n",
    "                                  'Activity':'Add product to package',\n",
    "                                    'Timestamp':  stamp,\n",
    "\n",
    "                                 'Order': 'o'+str(i+1),\n",
    "                                 'Product Type': set([value]),\n",
    "                                 'Resource': resource2},\n",
    "                                           ignore_index=True)\n",
    "        # Increase count\n",
    "        count = count + 1\n",
    "\n",
    "        #Increase timestamp at random between 1 and time_between_events seconds\n",
    "        time_duration = random.uniform(1,time_between_events)\n",
    "\n",
    "        stamp = stamp + timedelta(seconds=time_duration)\n",
    "\n",
    "# Create event 7\n",
    "    events_df = events_df.append({'EID':\"e\"+str(i+count),\n",
    "                                  'Activity':'Get confirmation',\n",
    "                                  'Timestamp': stamp,\n",
    "                                 'Customer': CID[0],\n",
    "                                 'Order': 'o'+str(i+1)},\n",
    "                                           ignore_index=True)\n",
    "    # Increase count\n",
    "    count = count + 1\n",
    "\n",
    "    #Increase timestamp at random between 1 and time_between_events seconds\n",
    "    time_duration = random.uniform(1,time_between_events)\n",
    "\n",
    "    stamp = stamp + timedelta(seconds=time_duration)\n",
    "\n",
    "# Create event 8\n",
    "    events_df = events_df.append({'EID':\"e\"+str(i+count),\n",
    "                                  'Activity':'Confirm shipping information',\n",
    "                                  'Timestamp': stamp,\n",
    "                                 'Customer': CID[0],\n",
    "                                 'Order': 'o'+str(i+1)},\n",
    "                                           ignore_index=True)\n",
    "    # Increase count\n",
    "    count = count + 1\n",
    "\n",
    "   #Increase timestamp at random between 1 and time_between_events seconds\n",
    "    time_duration = random.uniform(1,time_between_events)\n",
    "\n",
    "    stamp = stamp + timedelta(seconds=time_duration)\n",
    "\n",
    "# Create event 9\n",
    "    events_df = events_df.append({'EID':\"e\"+str(i+count),\n",
    "                                  'Activity':'Determine shipping method',\n",
    "                                  'Timestamp': stamp,\n",
    "                                 'Product Type': product_list,\n",
    "                                 'Order': 'o'+str(i+1),\n",
    "                                 'Resource': resource1},\n",
    "                                           ignore_index=True)\n",
    "   # Increase count\n",
    "    count = count + 1\n",
    "\n",
    "  #Increase timestamp at random between 1 and time_between_events seconds\n",
    "    time_duration = random.uniform(1,time_between_events)\n",
    "\n",
    "    stamp = stamp + timedelta(seconds=time_duration)\n",
    "\n",
    "    #make the shipping method table\n",
    "\n",
    "    #We need to parallelize therefore we make a split with random so either first the courrier is\n",
    "    #send or first the invoice is send\n",
    "    split = random.randint(0, 1)\n",
    "\n",
    "    #Shipping method comes first\n",
    "\n",
    "    if split==1:\n",
    "        print('Shipping method comes first')\n",
    "        #make event Determine shipping method and shipping method event itself\n",
    "        control=0\n",
    "        for value in product_list:\n",
    "            fragile = product_types_df.loc[product_types_df['PID'] == value]['Fragile'].values\n",
    "            if fragile[0] == 1:\n",
    "                control = 1\n",
    "                shipping_method_df = shipping_method_df.append({'EID':\"e\"+str(i+count-1),\n",
    "                                                        'SID': 'S'+str(shipping_method_df.shape[0] + 1),\n",
    "                                                        'Method': 'Courrier',\n",
    "                                                        'OID':'o' + str(i+1)},\n",
    "                                               ignore_index=True)\n",
    "\n",
    "                #Add shipping event courrier\n",
    "\n",
    "                now=datetime.now()\n",
    "                events_df = events_df.append({'EID':\"e\"+str(i+count),\n",
    "                                      'Activity':'Ship by courrier',\n",
    "                                      'Timestamp': stamp,\n",
    "\n",
    "                                     'Order': 'o'+str(i+1),\n",
    "                                     'Resource': resource3},\n",
    "                                               ignore_index=True)\n",
    "                # Increase count\n",
    "                count = count + 1\n",
    "\n",
    "                #Increase timestamp at random between 1 and time_between_events seconds\n",
    "                time_duration = random.uniform(1,time_between_events)\n",
    "\n",
    "                stamp = stamp + timedelta(seconds=time_duration)\n",
    "\n",
    "                break\n",
    "\n",
    "        if order_value_df.loc[i]['Value'] >= min_value and control !=1 :\n",
    "            control = 1\n",
    "            shipping_method_df = shipping_method_df.append({'EID':\"e\"+str(i+count-1),\n",
    "                                                        'SID': 'S' + str(shipping_method_df.shape[0] + 1),\n",
    "                                                        'Method': 'Courrier',\n",
    "                                                        'OID':'o' + str(i+1)},\n",
    "                                                   ignore_index=True)\n",
    "            #Add shipping event courrier\n",
    "            now=datetime.now()\n",
    "            events_df = events_df.append({'EID':\"e\"+str(i+count),\n",
    "                                      'Activity':'Ship by courrier',\n",
    "                                      'Timestamp': stamp,\n",
    "\n",
    "                                     'Order': 'o'+str(i+1),\n",
    "                                                         'Resource': resource3},\n",
    "                                               ignore_index=True)\n",
    "            # Increase count\n",
    "            count = count + 1\n",
    "\n",
    "            #Increase timestamp at random between 1 and time_between_events seconds\n",
    "            time_duration = random.uniform(1,time_between_events)\n",
    "\n",
    "            stamp = stamp + timedelta(seconds=time_duration)\n",
    "\n",
    "        if control !=1:\n",
    "            shipping_method_df = shipping_method_df.append({'EID':\"e\"+str(i+count-1),\n",
    "                                                        'SID': 'S'+str(shipping_method_df.shape[0] + 1),\n",
    "                                                        'Method': 'Mail',\n",
    "                                                        'OID':'o' + str(i+1)},\n",
    "                                                   ignore_index=True)\n",
    "            #Add shipping event mail\n",
    "            events_df = events_df.append({'EID':\"e\"+str(i+count),\n",
    "                                      'Activity':'Ship by mail',\n",
    "                                      'Timestamp': stamp,\n",
    "                                     'Order': 'o'+str(i+1),\n",
    "                                                         'Resource': resource3},\n",
    "                                               ignore_index=True)\n",
    "            # Increase count\n",
    "            count = count + 1\n",
    "\n",
    "            #Increase timestamp at random between 1 and time_between_events seconds\n",
    "            time_duration = random.uniform(1,time_between_events)\n",
    "\n",
    "            stamp = stamp + timedelta(seconds=time_duration)\n",
    "\n",
    "        # Create event send invoice\n",
    "        events_df = events_df.append({'EID':\"e\"+str(i+count),\n",
    "                                      'Activity':'Send invoice',\n",
    "                                      'Timestamp': stamp,\n",
    "                                     'Order': 'o'+str(i+1),\n",
    "                                     'Resource': resource1},\n",
    "                                               ignore_index=True)\n",
    "        # Increase count\n",
    "        count = count + 1\n",
    "\n",
    "        #Increase timestamp at random between 1 and time_between_events seconds\n",
    "        time_duration = random.uniform(1,time_between_events)\n",
    "\n",
    "        stamp = stamp + timedelta(seconds=time_duration)\n",
    "\n",
    "    #Sent invoice comes first\n",
    "\n",
    "    if split==0:\n",
    "        print('Send invoice comes first')\n",
    "         # Create event send invoice\n",
    "        events_df = events_df.append({'EID':\"e\"+str(i+count),\n",
    "                                      'Activity':'Send invoice',\n",
    "                                      'Timestamp': stamp,\n",
    "                                     'Order': 'o'+str(i+1),\n",
    "                                     'Resource': resource1},\n",
    "                                               ignore_index=True)\n",
    "        # Increase count\n",
    "        count = count + 1\n",
    "\n",
    "        #Increase timestamp at random between 1 and time_between_events seconds\n",
    "        time_duration = random.uniform(1,time_between_events)\n",
    "\n",
    "        stamp = stamp + timedelta(seconds=time_duration)\n",
    "\n",
    "        #make event Determine shipping method and shipping method event itself\n",
    "        control=0\n",
    "        for value in product_list:\n",
    "            fragile = product_types_df.loc[product_types_df['PID'] == value]['Fragile'].values\n",
    "            if fragile[0] == 1:\n",
    "                control = 1\n",
    "                shipping_method_df = shipping_method_df.append({'EID':\"e\"+str(i+count-2),\n",
    "                                                        'SID': 'S'+str(shipping_method_df.shape[0] + 1),\n",
    "                                                        'Method': 'Courrier',\n",
    "                                                        'OID':'o' + str(i+1)},\n",
    "                                               ignore_index=True)\n",
    "\n",
    "                #Add shipping event courrier\n",
    "\n",
    "                now=datetime.now()\n",
    "                events_df = events_df.append({'EID':\"e\"+str(i+count),\n",
    "                                      'Activity':'Ship by courrier',\n",
    "                                      'Timestamp': stamp,\n",
    "\n",
    "                                     'Order': 'o'+str(i+1),\n",
    "                                     'Resource': resource3},\n",
    "                                               ignore_index=True)\n",
    "                # Increase count\n",
    "                count = count + 1\n",
    "\n",
    "               #Increase timestamp at random between 1 and time_between_events seconds\n",
    "                time_duration = random.uniform(1,time_between_events)\n",
    "\n",
    "                stamp = stamp + timedelta(seconds=time_duration)\n",
    "\n",
    "                break\n",
    "\n",
    "        if order_value_df.loc[i]['Value'] >= min_value and control !=1 :\n",
    "            control = 1\n",
    "            shipping_method_df = shipping_method_df.append({'EID':\"e\"+str(i+count-2),\n",
    "                                                        'SID': 'S' + str(shipping_method_df.shape[0] + 1),\n",
    "                                                        'Method': 'Courrier',\n",
    "                                                        'OID':'o' + str(i+1)},\n",
    "                                                   ignore_index=True)\n",
    "            #Add shipping event courrier\n",
    "            now=datetime.now()\n",
    "            events_df = events_df.append({'EID':\"e\"+str(i+count),\n",
    "                                      'Activity':'Ship by courrier',\n",
    "                                      'Timestamp': stamp,\n",
    "\n",
    "                                     'Order': 'o'+str(i+1),\n",
    "                                                         'Resource': resource3},\n",
    "                                               ignore_index=True)\n",
    "            # Increase count\n",
    "            count = count + 1\n",
    "\n",
    "           #Increase timestamp at random between 1 and time_between_events seconds\n",
    "            time_duration = random.uniform(1,time_between_events)\n",
    "\n",
    "            stamp = stamp + timedelta(seconds=time_duration)\n",
    "\n",
    "        if control !=1:\n",
    "            shipping_method_df = shipping_method_df.append({'EID':\"e\"+str(i+count-2),\n",
    "                                                        'SID': 'S'+str(shipping_method_df.shape[0] + 1),\n",
    "                                                        'Method': 'Mail',\n",
    "                                                        'OID':'o' + str(i+1)},\n",
    "                                                   ignore_index=True)\n",
    "            #Add shipping event mail\n",
    "            now=datetime.now()\n",
    "            events_df = events_df.append({'EID':\"e\"+str(i+count),\n",
    "                                      'Activity':'Ship by mail',\n",
    "                                      'Timestamp': stamp,\n",
    "                                     'Order': 'o'+str(i+1),\n",
    "                                                         'Resource': resource3},\n",
    "                                               ignore_index=True)\n",
    "            # Increase count\n",
    "            count = count + 1\n",
    "\n",
    "\n",
    "            #Increase timestamp at random between 1 and time_between_events seconds\n",
    "            time_duration = random.uniform(1,time_between_events)\n",
    "\n",
    "            stamp = stamp + timedelta(seconds=time_duration)\n",
    "\n",
    "    # Create event deliver package\n",
    "    events_df = events_df.append({'EID':\"e\"+str(i+count),\n",
    "                                  'Activity':'Deliver package',\n",
    "                                  'Timestamp': stamp ,\n",
    "                                 'Order': 'o'+str(i+1),\n",
    "                                 'Customer':CID[0],\n",
    "                                                     'Resource': resource3},\n",
    "                                           ignore_index=True)\n",
    "\n",
    "    # Increase count\n",
    "    count = count + 1\n",
    "\n",
    "    #Increase timestamp at random between 1 and time_between_events seconds\n",
    "    time_duration = random.uniform(1,time_between_events)\n",
    "\n",
    "    stamp = stamp + timedelta(seconds=time_duration)\n",
    "\n",
    "    # Create event Determine satisfaction\n",
    "        #randomly decide on whether the customer wants a refund or not\n",
    "    r = random.uniform(0, 1)\n",
    "    #r = random.randint(0, 1)\n",
    "\n",
    "    events_df = events_df.append({'EID':\"e\"+str(i+count),\n",
    "                                  'Activity':'Determine satisfaction',\n",
    "                                  'Timestamp': stamp ,\n",
    "                                 'Order': 'o'+str(i+1),\n",
    "                                 'Customer':CID[0]},\n",
    "                                           ignore_index=True)\n",
    "\n",
    "    #Increase timestamp at random between 1 and time_between_events seconds\n",
    "    time_duration = random.uniform(1,time_between_events)\n",
    "\n",
    "    stamp = stamp + timedelta(seconds=time_duration)\n",
    "\n",
    "    if r<refund_prob:\n",
    "        print('Customer does not want refund')\n",
    "        count = count + 1\n",
    "        events_df = events_df.append({'EID':\"e\"+str(i+count),\n",
    "                                  'Activity':'File Order',\n",
    "                                  'Timestamp': stamp ,\n",
    "                                 'Order': 'o'+str(i+1),\n",
    "                                 'Resource': resource1\n",
    "                                 },\n",
    "                                           ignore_index=True)\n",
    "\n",
    "\n",
    "        #Initialize the next timerange\n",
    "        start = stamp - timedelta(seconds= next_event_timerange)\n",
    "        end = stamp\n",
    "\n",
    "        continue\n",
    "\n",
    "    #if no refund is asked the process ends with file order\n",
    "\n",
    "    #create event File order\n",
    "    else:\n",
    "        refund_df = refund_df.append({'RID':'R' + str(refund_df.shape[0] + 1), 'Refund Value' : 1,'EID':\"e\"+str(i+count),'OID':'o'+str(i+1)},ignore_index=True)\n",
    "\n",
    "        print('Since refund is asked, we take the other path')\n",
    "\n",
    "     # Increase count\n",
    "    count = count + 1\n",
    "\n",
    "   #Increase timestamp at random between 1 and time_between_events seconds\n",
    "    time_duration = random.uniform(1,time_between_events)\n",
    "\n",
    "    stamp = stamp + timedelta(seconds=time_duration)\n",
    "\n",
    "    # Create event Request refund\n",
    "\n",
    "\n",
    "    events_df = events_df.append({'EID':\"e\"+str(i+count),\n",
    "                                  'Activity':'Request refund',\n",
    "                                  'Timestamp': stamp ,\n",
    "                                 'Order': 'o'+str(i+1),\n",
    "                                 'Customer':CID[0]},\n",
    "                                           ignore_index=True)\n",
    "\n",
    "\n",
    "    # Increase count\n",
    "    count = count + 1\n",
    "\n",
    "    #Increase timestamp at random between 1 and time_between_events seconds\n",
    "    time_duration = random.uniform(1,time_between_events)\n",
    "\n",
    "    stamp = stamp + timedelta(seconds=time_duration)\n",
    "\n",
    "    # Create event Confirm shipping information\n",
    "\n",
    "    events_df = events_df.append({'EID':\"e\"+str(i+count),\n",
    "                                  'Activity':'Confirm shipping information',\n",
    "                                  'Timestamp': stamp ,\n",
    "                                 'Order': 'o'+str(i+1),\n",
    "                                 'Customer':CID[0]},\n",
    "                                           ignore_index=True)\n",
    "\n",
    "    # Increase count\n",
    "    count = count + 1\n",
    "\n",
    "    #Increase timestamp at random between 1 and time_between_events seconds\n",
    "    time_duration = random.uniform(1,time_between_events)\n",
    "\n",
    "    stamp = stamp + timedelta(seconds=time_duration)\n",
    "\n",
    "    # Create event Determine shipping method\n",
    "\n",
    "    events_df = events_df.append({'EID':\"e\"+str(i+count),\n",
    "                                  'Activity':'Determine shipping method',\n",
    "                                  'Timestamp': stamp ,\n",
    "                                 'Order': 'o'+str(i+1),\n",
    "                                 'Resource': resource1},\n",
    "                                           ignore_index=True)\n",
    "\n",
    "\n",
    "    shipping_method_df = shipping_method_df.append({'EID':\"e\"+str(i+count),\n",
    "                                                    'SID': 'S'+ str(shipping_method_df.shape[0] + 1),\n",
    "                                                    'Method': 'Express Courrier',\n",
    "                                                    'OID':'o' + str(i+1)},\n",
    "                                               ignore_index=True)\n",
    "\n",
    "   # Increase count\n",
    "    count = count + 1\n",
    "\n",
    "    #Increase timestamp at random between 1 and time_between_events seconds\n",
    "    time_duration = random.uniform(1,time_between_events)\n",
    "\n",
    "    stamp = stamp + timedelta(seconds=time_duration)\n",
    "\n",
    "\n",
    "    #We need to parallelize therefore we make a split with random so either first the express courrier is\n",
    "    #send or first the recollect letter is send\n",
    "\n",
    "    split = random.randint(0, 1)\n",
    "\n",
    "    if split == 0:\n",
    "            print('first express courrier then recollect letter')\n",
    "\n",
    "            # Create event Ship by express courrier\n",
    "\n",
    "            events_df = events_df.append({'EID':\"e\"+str(i+count),\n",
    "                                          'Activity':'Ship by express courrier',\n",
    "                                          'Timestamp': stamp ,\n",
    "                                         'Order': 'o'+str(i+1),\n",
    "                                                             'Resource': resource3},\n",
    "                                                   ignore_index=True)\n",
    "\n",
    "\n",
    "\n",
    "\n",
    "            # Increase count\n",
    "            count = count + 1\n",
    "\n",
    "            #Increase timestamp at random between 1 and time_between_events seconds\n",
    "            time_duration = random.uniform(1,time_between_events)\n",
    "\n",
    "            stamp = stamp + timedelta(seconds=time_duration)\n",
    "\n",
    "            # Create event Recollect Letter\n",
    "\n",
    "            events_df = events_df.append({'EID':\"e\"+str(i+count),\n",
    "                                          'Activity':'Recollect Letter',\n",
    "                                          'Timestamp': stamp ,\n",
    "                                         'Order': 'o'+str(i+1),\n",
    "                                         'Resource': resource1},\n",
    "                                                   ignore_index=True)\n",
    "\n",
    "\n",
    "            # Increase count\n",
    "            count = count + 1\n",
    "\n",
    "            #Increase timestamp at random between 1 and time_between_events seconds\n",
    "            time_duration = random.uniform(1,time_between_events)\n",
    "\n",
    "            stamp = stamp + timedelta(seconds=time_duration)\n",
    "\n",
    "    if split == 1:\n",
    "        print('first recollect letter then express courrier')\n",
    "\n",
    "         # Create event Recollect Letter\n",
    "\n",
    "        events_df = events_df.append({'EID':\"e\"+str(i+count),\n",
    "                                      'Activity':'Recollect Letter',\n",
    "                                      'Timestamp': stamp ,\n",
    "                                     'Order': 'o'+str(i+1),\n",
    "                                     'Resource': resource1},\n",
    "                                               ignore_index=True)\n",
    "\n",
    "\n",
    "        # Increase count\n",
    "        count = count + 1\n",
    "\n",
    "        #Increase timestamp at random between 1 and time_between_events seconds\n",
    "        time_duration = random.uniform(1,time_between_events)\n",
    "\n",
    "        stamp = stamp + timedelta(seconds=time_duration)\n",
    "\n",
    "        # Create event Ship by express courrier\n",
    "\n",
    "        events_df = events_df.append({'EID':\"e\"+str(i+count),\n",
    "                                      'Activity':'Ship by express courrier',\n",
    "                                      'Timestamp': stamp ,\n",
    "                                     'Order': 'o'+str(i+1),\n",
    "                                                         'Resource': resource3},\n",
    "                                               ignore_index=True)\n",
    "\n",
    "        # Increase count\n",
    "        count = count + 1\n",
    "\n",
    "        #Increase timestamp at random between 1 and time_between_events seconds\n",
    "        time_duration = random.uniform(1,time_between_events)\n",
    "\n",
    "        stamp = stamp + timedelta(seconds=time_duration)\n",
    "\n",
    "\n",
    "\n",
    "    # Create event Return Package\n",
    "\n",
    "    events_df = events_df.append({'EID':\"e\"+str(i+count),\n",
    "                                  'Activity':'Return Package',\n",
    "                                  'Timestamp': stamp ,\n",
    "                                 'Order': 'o'+str(i+1),\n",
    "                                 'Customer': CID[0]},\n",
    "                                           ignore_index=True)\n",
    "\n",
    "\n",
    "    # Increase count\n",
    "    count = count + 1\n",
    "\n",
    "    ##Increase timestamp at random between 1 and time_between_events seconds\n",
    "    time_duration = random.uniform(1,time_between_events)\n",
    "\n",
    "    stamp = stamp + timedelta(seconds=time_duration)\n",
    "\n",
    "     # Create event Pay refund\n",
    "\n",
    "    events_df = events_df.append({'EID':\"e\"+str(i+count),\n",
    "                                  'Activity':'Pay refund',\n",
    "                                  'Timestamp': stamp ,\n",
    "                                 'Order': 'o'+str(i+1),\n",
    "                                 'Customer': CID[0],\n",
    "                                 'Resource': resource1},\n",
    "                                           ignore_index=True)\n",
    "\n",
    "\n",
    "    # Increase count\n",
    "    count = count + 1\n",
    "\n",
    "    #Increase timestamp at random between 1 and time_between_events seconds\n",
    "    time_duration = random.uniform(1,time_between_events)\n",
    "\n",
    "    stamp = stamp + timedelta(seconds=time_duration)\n",
    "\n",
    "    # Create event Deliver package\n",
    "\n",
    "    events_df = events_df.append({'EID':\"e\"+str(i+count),\n",
    "                                  'Activity':'Deliver package',\n",
    "                                  'Timestamp': stamp ,\n",
    "                                 'Order': 'o'+str(i+1),\n",
    "                                 'Customer': CID[0],\n",
    "                                                     'Resource': resource3},\n",
    "                                           ignore_index=True)\n",
    "\n",
    "\n",
    "    # Increase count\n",
    "    count = count + 1\n",
    "\n",
    "   #Increase timestamp at random between 1 and time_between_events seconds\n",
    "    time_duration = random.uniform(1,time_between_events)\n",
    "\n",
    "    stamp = stamp + timedelta(seconds=time_duration)\n",
    "\n",
    "    #Create event Determine satisfaction\n",
    "\n",
    "    events_df = events_df.append({'EID':\"e\"+str(i+count),\n",
    "                                  'Activity':'Determine satisfaction',\n",
    "                                  'Timestamp': stamp ,\n",
    "                                 'Order': 'o'+str(i+1),\n",
    "                                 'Customer':CID[0]},\n",
    "                                           ignore_index=True)\n",
    "\n",
    "    #Change refund variable to 0 since the customer is happy\n",
    "\n",
    "    refund_df = refund_df.append({'RID':'R' + str(refund_df.shape[0] + 1), 'Refund Value' : 0,'EID':\"e\"+str(i+count),'OID':'o'+str(i+1)},ignore_index=True)\n",
    "\n",
    "\n",
    "   # Increase count\n",
    "    count = count + 1\n",
    "\n",
    "    #Increase timestamp at random between 1 and time_between_events seconds\n",
    "    time_duration = random.uniform(1,time_between_events)\n",
    "\n",
    "    stamp = stamp + timedelta(seconds=time_duration)\n",
    "\n",
    "    #Create event File Order\n",
    "\n",
    "    events_df = events_df.append({'EID':\"e\"+str(i+count),\n",
    "                                  'Activity':'File Order',\n",
    "                                  'Timestamp': stamp ,\n",
    "                                 'Order': 'o'+str(i+1),\n",
    "                                 'Resource': resource1},\n",
    "                                           ignore_index=True)\n",
    "\n",
    "\n",
    "    #Initialize the next timerange\n",
    "    start = stamp- timedelta(seconds= next_event_timerange)\n",
    "    end = stamp\n"
   ]
  },
  {
   "cell_type": "markdown",
   "id": "08270422",
   "metadata": {
    "id": "08270422"
   },
   "source": [
    "Order the events by timestamps"
   ]
  },
  {
   "cell_type": "code",
   "execution_count": null,
   "id": "2deba161",
   "metadata": {
    "colab": {
     "base_uri": "https://localhost:8080/",
     "height": 1000
    },
    "executionInfo": {
     "elapsed": 221,
     "status": "ok",
     "timestamp": 1689061857419,
     "user": {
      "displayName": "Alexandre Goossens",
      "userId": "15551218393207195686"
     },
     "user_tz": -120
    },
    "id": "2deba161",
    "outputId": "9fe254b7-3193-4696-9aea-49b200b060a8",
    "scrolled": true
   },
   "outputs": [],
   "source": [
    "#First order events by timestamps\n",
    "events_df = pd.DataFrame(events_df)\n",
    "events_df = events_df.sort_values(by=['Timestamp'])\n",
    "#Reset the indexes\n",
    "events_df= events_df.reset_index(drop=True)\n",
    "events_df= events_df.reset_index()\n",
    "#Rename column names\n",
    "events_df=events_df.rename(columns = {'index':'EID_new', 'EID':'EID_old'})\n",
    "#Rename the values of 'EID_new'\n",
    "events_df['EID_new'] ='e' + events_df['EID_new'].astype(str)\n",
    "events_df = events_df.fillna('/')\n",
    "events_df.head(50)\n"
   ]
  },
  {
   "cell_type": "code",
   "execution_count": null,
   "id": "e1558a38",
   "metadata": {
    "id": "e1558a38"
   },
   "outputs": [],
   "source": [
    "#For every row in the dynamic attribute table\n",
    "    #take the EID\n",
    "    #look it up in the events_df table and retrieve the EID_new save it in a separate variable\n",
    "    # put that value in the attributes table\n",
    "\n",
    "for j in range(len(quantity_df)):\n",
    "    ID = quantity_df.loc[j]['EID']\n",
    "    quantity_df.loc[j]['EID'] = events_df['EID_new'].loc[events_df['EID_old'] == ID].values.tolist()[0]\n",
    "\n",
    "for j in range(len(order_value_df)):\n",
    "    ID = order_value_df.loc[j]['EID']\n",
    "    order_value_df.loc[j]['EID'] = events_df['EID_new'].loc[events_df['EID_old'] == ID].values.tolist()[0]\n",
    "\n",
    "for j in range(len(refund_df)):\n",
    "    ID = refund_df.loc[j]['EID']\n",
    "    refund_df.loc[j]['EID'] = events_df['EID_new'].loc[events_df['EID_old'] == ID].values.tolist()[0]\n",
    "\n",
    "for j in range(len(shipping_method_df)):\n",
    "    ID = shipping_method_df.loc[j]['EID']\n",
    "    shipping_method_df.loc[j]['EID'] = events_df['EID_new'].loc[events_df['EID_old'] == ID].values.tolist()[0]\n",
    "\n",
    "events_df= events_df.drop(['EID_old'], axis=1)\n",
    "events_df.rename(columns = {'EID_new':'EID'}, inplace = True)\n",
    "\n"
   ]
  },
  {
   "cell_type": "markdown",
   "id": "68e5c209",
   "metadata": {
    "id": "68e5c209"
   },
   "source": [
    "FIX QUANTITY TABLE\n"
   ]
  },
  {
   "cell_type": "code",
   "execution_count": null,
   "id": "f3466a46",
   "metadata": {
    "colab": {
     "base_uri": "https://localhost:8080/",
     "height": 111
    },
    "executionInfo": {
     "elapsed": 3,
     "status": "ok",
     "timestamp": 1689061753709,
     "user": {
      "displayName": "Alexandre Goossens",
      "userId": "15551218393207195686"
     },
     "user_tz": -120
    },
    "id": "f3466a46",
    "outputId": "82737f2b-98f7-4751-c21b-debcfb26b938"
   },
   "outputs": [],
   "source": [
    "quantity_df[['P1','P2','P3']] =  quantity_df[['P1','P2','P3']].fillna(0)\n",
    "quantity_df['Quantity']=quantity_df[['P1','P2','P3']].values.tolist()\n",
    "quantity_df=quantity_df.drop(['P1','P2','P3'], axis=1)\n",
    "columns_titles = [\"QID\",\"Quantity\",'EID','OID']\n",
    "quantity_df=quantity_df.reindex(columns=columns_titles)\n",
    "quantity_df"
   ]
  },
  {
   "cell_type": "code",
   "execution_count": null,
   "id": "isTnP1OTjjwq",
   "metadata": {
    "id": "isTnP1OTjjwq"
   },
   "outputs": [],
   "source": [
    "orders_df[\"Quantity\"]= quantity_df['Quantity']"
   ]
  },
  {
   "cell_type": "code",
   "execution_count": null,
   "id": "WH1Y0cBHjtNF",
   "metadata": {
    "colab": {
     "base_uri": "https://localhost:8080/",
     "height": 111
    },
    "executionInfo": {
     "elapsed": 2,
     "status": "ok",
     "timestamp": 1689061756192,
     "user": {
      "displayName": "Alexandre Goossens",
      "userId": "15551218393207195686"
     },
     "user_tz": -120
    },
    "id": "WH1Y0cBHjtNF",
    "outputId": "5a2e3a22-f2b7-42cc-e64d-152cd94ab99e"
   },
   "outputs": [],
   "source": [
    "orders_df"
   ]
  },
  {
   "cell_type": "code",
   "execution_count": null,
   "id": "3ff84000",
   "metadata": {
    "colab": {
     "base_uri": "https://localhost:8080/",
     "height": 142
    },
    "executionInfo": {
     "elapsed": 288,
     "status": "ok",
     "timestamp": 1689061757437,
     "user": {
      "displayName": "Alexandre Goossens",
      "userId": "15551218393207195686"
     },
     "user_tz": -120
    },
    "id": "3ff84000",
    "outputId": "b859e72c-117d-499a-8a51-83566a1b5046"
   },
   "outputs": [],
   "source": [
    "product_types_df"
   ]
  },
  {
   "cell_type": "code",
   "execution_count": null,
   "id": "b05765f3",
   "metadata": {
    "colab": {
     "base_uri": "https://localhost:8080/",
     "height": 1000
    },
    "executionInfo": {
     "elapsed": 8,
     "status": "ok",
     "timestamp": 1689061758379,
     "user": {
      "displayName": "Alexandre Goossens",
      "userId": "15551218393207195686"
     },
     "user_tz": -120
    },
    "id": "b05765f3",
    "outputId": "95d60ebf-0b6b-4197-a164-e284d3b1df93",
    "scrolled": true
   },
   "outputs": [],
   "source": [
    "customers_df"
   ]
  },
  {
   "cell_type": "code",
   "execution_count": null,
   "id": "cb51bbea",
   "metadata": {
    "colab": {
     "base_uri": "https://localhost:8080/",
     "height": 111
    },
    "executionInfo": {
     "elapsed": 540,
     "status": "ok",
     "timestamp": 1689061762683,
     "user": {
      "displayName": "Alexandre Goossens",
      "userId": "15551218393207195686"
     },
     "user_tz": -120
    },
    "id": "cb51bbea",
    "outputId": "e97b077f-9eff-48e9-cab2-9d3d69e63a7f",
    "scrolled": true
   },
   "outputs": [],
   "source": [
    "orders_df"
   ]
  },
  {
   "cell_type": "code",
   "execution_count": null,
   "id": "6e5baec5",
   "metadata": {
    "colab": {
     "base_uri": "https://localhost:8080/",
     "height": 111
    },
    "executionInfo": {
     "elapsed": 230,
     "status": "ok",
     "timestamp": 1689061763369,
     "user": {
      "displayName": "Alexandre Goossens",
      "userId": "15551218393207195686"
     },
     "user_tz": -120
    },
    "id": "6e5baec5",
    "outputId": "4e7c54c2-271a-4225-ebf0-5aa09f933592"
   },
   "outputs": [],
   "source": [
    "quantity_df"
   ]
  },
  {
   "cell_type": "code",
   "execution_count": null,
   "id": "d2195a00",
   "metadata": {
    "colab": {
     "base_uri": "https://localhost:8080/",
     "height": 111
    },
    "executionInfo": {
     "elapsed": 368,
     "status": "ok",
     "timestamp": 1689061764781,
     "user": {
      "displayName": "Alexandre Goossens",
      "userId": "15551218393207195686"
     },
     "user_tz": -120
    },
    "id": "d2195a00",
    "outputId": "5c73f3b4-dcfe-4d3a-c04b-78e9fe75a955"
   },
   "outputs": [],
   "source": [
    "order_value_df"
   ]
  },
  {
   "cell_type": "code",
   "execution_count": null,
   "id": "9d4c8b3b",
   "metadata": {
    "colab": {
     "base_uri": "https://localhost:8080/",
     "height": 111
    },
    "executionInfo": {
     "elapsed": 3,
     "status": "ok",
     "timestamp": 1689061765700,
     "user": {
      "displayName": "Alexandre Goossens",
      "userId": "15551218393207195686"
     },
     "user_tz": -120
    },
    "id": "9d4c8b3b",
    "outputId": "394589f6-9f55-42c5-dbf9-6cdd6ce08143"
   },
   "outputs": [],
   "source": [
    "refund_df"
   ]
  },
  {
   "cell_type": "code",
   "execution_count": null,
   "id": "bb97cf1c",
   "metadata": {
    "colab": {
     "base_uri": "https://localhost:8080/",
     "height": 111
    },
    "executionInfo": {
     "elapsed": 3,
     "status": "ok",
     "timestamp": 1689061766946,
     "user": {
      "displayName": "Alexandre Goossens",
      "userId": "15551218393207195686"
     },
     "user_tz": -120
    },
    "id": "bb97cf1c",
    "outputId": "3b5a178e-62f0-4dae-c6d9-5302836e0420",
    "scrolled": true
   },
   "outputs": [],
   "source": [
    "shipping_method_df"
   ]
  },
  {
   "cell_type": "code",
   "execution_count": null,
   "id": "6s-zX2WW7T-v",
   "metadata": {
    "colab": {
     "base_uri": "https://localhost:8080/",
     "height": 1000
    },
    "executionInfo": {
     "elapsed": 224,
     "status": "ok",
     "timestamp": 1689061773808,
     "user": {
      "displayName": "Alexandre Goossens",
      "userId": "15551218393207195686"
     },
     "user_tz": -120
    },
    "id": "6s-zX2WW7T-v",
    "outputId": "02b5ee12-2cd2-46da-dcb5-21dc9db43b5a"
   },
   "outputs": [],
   "source": [
    "events_df"
   ]
  },
  {
   "cell_type": "code",
   "execution_count": null,
   "id": "4a49de9b",
   "metadata": {
    "id": "4a49de9b"
   },
   "outputs": [],
   "source": [
    "writer = pd.ExcelWriter('DOCEL log.xlsx', engine='xlsxwriter')"
   ]
  },
  {
   "cell_type": "code",
   "execution_count": null,
   "id": "b95d2ecd",
   "metadata": {
    "id": "b95d2ecd"
   },
   "outputs": [],
   "source": [
    "# event table\n",
    "events_df.to_excel(writer, sheet_name='Events')\n",
    "\n",
    "#object tables\n",
    "customers_df.to_excel(writer, sheet_name='Customer')\n",
    "product_types_df.to_excel(writer, sheet_name='Product Type')\n",
    "orders_df.to_excel(writer, sheet_name='Order')\n",
    "\n",
    "#Attribute tables\n",
    "#quantity_df.to_excel(writer, sheet_name='Quantity')\n",
    "order_value_df.to_excel(writer, sheet_name='Value')\n",
    "refund_df.to_excel(writer, sheet_name='Refund Value')\n",
    "shipping_method_df.to_excel(writer, sheet_name='Method')"
   ]
  },
  {
   "cell_type": "code",
   "execution_count": null,
   "id": "a500cc64",
   "metadata": {
    "colab": {
     "base_uri": "https://localhost:8080/"
    },
    "executionInfo": {
     "elapsed": 253,
     "status": "ok",
     "timestamp": 1688653978113,
     "user": {
      "displayName": "Alexandre Goossens",
      "userId": "15551218393207195686"
     },
     "user_tz": -120
    },
    "id": "a500cc64",
    "outputId": "214f803b-beb8-4a1c-f2a3-f1eb1f7fcfa3"
   },
   "outputs": [],
   "source": [
    "# Close the Pandas Excel writer and output the Excel file.\n",
    "writer.save()"
   ]
  },
  {
   "cell_type": "code",
   "execution_count": null,
   "id": "7ff0471b",
   "metadata": {
    "id": "7ff0471b"
   },
   "outputs": [],
   "source": [
    "#OCEL LOG\n"
   ]
  },
  {
   "cell_type": "code",
   "execution_count": null,
   "id": "00706da4",
   "metadata": {
    "id": "00706da4",
    "outputId": "7643f2db-d61e-4390-efdb-271bfb6679aa"
   },
   "outputs": [],
   "source": [
    "#OCEL = pd.merge(, quantity_df, how=\"left\",on='EID')\n",
    "OCEL = pd.merge(events_df, order_value_df, how=\"left\",on='EID')\n",
    "OCEL = pd.merge(OCEL, refund_df, how=\"left\",on='EID')\n",
    "OCEL = pd.merge(OCEL, shipping_method_df, how=\"left\",on='EID')\n",
    "OCEL"
   ]
  },
  {
   "cell_type": "code",
   "execution_count": null,
   "id": "975fdedd",
   "metadata": {},
   "outputs": [],
   "source": [
    "\n",
    "OCEL=OCEL.fillna('/')\n",
    "OCEL=OCEL.drop(['OID_x','OID_y','VID','RID','SID'], axis=1)\n",
    "OCEL"
   ]
  },
  {
   "cell_type": "code",
   "execution_count": null,
   "id": "5760f5c9",
   "metadata": {
    "id": "5760f5c9"
   },
   "outputs": [],
   "source": [
    "writer = pd.ExcelWriter('OCEL log.xlsx', engine='xlsxwriter')"
   ]
  },
  {
   "cell_type": "code",
   "execution_count": null,
   "id": "2896dc09",
   "metadata": {
    "id": "2896dc09"
   },
   "outputs": [],
   "source": [
    "# event table\n",
    "OCEL.to_excel(writer, sheet_name='Events')\n",
    "\n",
    "#object tables\n",
    "customers_df.to_excel(writer, sheet_name='Customer')\n",
    "product_types_df.to_excel(writer, sheet_name='Product Type')\n",
    "orders_df.to_excel(writer, sheet_name='Order')"
   ]
  },
  {
   "cell_type": "code",
   "execution_count": null,
   "id": "a522be11",
   "metadata": {
    "id": "a522be11",
    "outputId": "a8defa15-593e-434d-f926-b6b37d1b0f81"
   },
   "outputs": [],
   "source": [
    "# Close the Pandas Excel writer and output the Excel file.\n",
    "writer.save()"
   ]
  },
  {
   "cell_type": "code",
   "execution_count": null,
   "id": "1a38c621",
   "metadata": {
    "id": "1a38c621"
   },
   "outputs": [],
   "source": []
  },
  {
   "cell_type": "code",
   "execution_count": null,
   "id": "55c2455d",
   "metadata": {
    "id": "55c2455d"
   },
   "outputs": [],
   "source": []
  }
 ],
 "metadata": {
  "colab": {
   "provenance": []
  },
  "kernelspec": {
   "display_name": "Python 3 (ipykernel)",
   "language": "python",
   "name": "python3"
  },
  "language_info": {
   "codemirror_mode": {
    "name": "ipython",
    "version": 3
   },
   "file_extension": ".py",
   "mimetype": "text/x-python",
   "name": "python",
   "nbconvert_exporter": "python",
   "pygments_lexer": "ipython3",
   "version": "3.9.15"
  }
 },
 "nbformat": 4,
 "nbformat_minor": 5
}
